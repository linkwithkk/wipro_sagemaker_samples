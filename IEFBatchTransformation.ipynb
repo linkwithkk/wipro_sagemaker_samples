{
 "cells": [
  {
   "cell_type": "markdown",
   "metadata": {},
   "source": [
    "# This notebook provides an example to process a file using WIPRO IEF Controller extraction model for extraction of a company controllers from an annual report\n",
    "\n",
    "Make your you have neccessary permissions in your IAM role for executing the below notebook code."
   ]
  },
  {
   "cell_type": "code",
   "execution_count": null,
   "metadata": {},
   "outputs": [],
   "source": [
    "import boto3\n",
    "import sagemaker\n",
    "import json\n",
    "from sagemaker import get_execution_role\n",
    "import io\n",
    "import base64\n",
    "\n",
    "role = get_execution_role()"
   ]
  },
  {
   "cell_type": "markdown",
   "metadata": {},
   "source": [
    "### Create a base64 encode version of the file to be used as input for the transform job. \n",
    "This is done to allow users to prcoess files >5mb which is a file size restriction in live hosting services."
   ]
  },
  {
   "cell_type": "code",
   "execution_count": null,
   "metadata": {},
   "outputs": [],
   "source": [
    "# s3 bucket and file path for pdf file to be used for extraction\n",
    "bucket='bucket.temp'\n",
    "file_path='temp/sample.pdf'\n",
    "\n",
    "data_location = 's3://{}/{}'.format(bucket, file_path)\n",
    "print('File {} will be downloaded and converted to base64 format'.format(data_location))\n",
    "\n",
    "s3 = boto3.resource('s3')\n",
    "try:\n",
    "    obj = s3.Object(bucket, file_path)\n",
    "    b64_data=(base64.b64encode(obj.get()['Body'].read())).decode('utf-8')\n",
    "except botocore.exceptions.ClientError as e:\n",
    "    if e.response['Error']['Code'] == \"404\":\n",
    "        print(\"The file does not exist.\")\n",
    "    else:\n",
    "        raise"
   ]
  },
  {
   "cell_type": "markdown",
   "metadata": {},
   "source": [
    "### Create a json with required parameters and upload to s3 bucket for use in transform job\n"
   ]
  },
  {
   "cell_type": "code",
   "execution_count": null,
   "metadata": {},
   "outputs": [],
   "source": [
    "# s3 bucket and input file path for transform job\n",
    "bucket='bucket.temp'\n",
    "file_path='input/inpt.json'\n",
    "\n",
    "inpt_data=dict()\n",
    "# geo - either CAN or AUS\n",
    "inpt_data['geo']='AUS'\n",
    "# org name\n",
    "inpt_data['org']='XYZ corp'\n",
    "# threshold value for confidence score\n",
    "inpt_data['threshold']='0.50'\n",
    "# encoded file data\n",
    "inpt_data['file']=b64_data\n",
    "\n",
    "# place the json file into input path for transform job \n",
    "obj = s3.Object(bucket, file_path)\n",
    "obj.put(Body=json.dumps(inpt_data))"
   ]
  },
  {
   "cell_type": "markdown",
   "metadata": {},
   "source": [
    "### Create and run a transform job"
   ]
  },
  {
   "cell_type": "code",
   "execution_count": null,
   "metadata": {},
   "outputs": [],
   "source": [
    "#IEF\n",
    "input_key = 'bucket.temp/input/inpt.json'\n",
    "bucket = 'bucket.temp'\n",
    "input_location = 's3://{}'.format(input_key)\n",
    "\n",
    "#output location\n",
    "output_location = 's3://{}'.format('bucket.temp/output')\n",
    "\n",
    "s3_client = boto3.client('s3')\n",
    "#s3_client.upload_file('inpt.json', bucket, input_key)\n",
    "s3 = boto3.resource('s3')\n",
    "\n",
    "# Initialize the transformer object\n",
    "transformer =sagemaker.transformer.Transformer(\n",
    "    base_transform_job_name='Batch-Transform',\n",
    "    model_name='model_name for your product subscription',\n",
    "    instance_count=1,\n",
    "    instance_type='ml.m5.2xlarge',\n",
    "    output_path=output_location\n",
    "    )\n",
    "# To start a transform job:\n",
    "transformer.transform(input_location, content_type='application/json', split_type='None')\n",
    "\n",
    "# Then wait until transform job is completed\n",
    "transformer.wait()\n",
    "\n",
    "print(\"Output path {}\".format(output_location))"
   ]
  }
 ],
 "metadata": {
  "kernelspec": {
   "display_name": "Python 3",
   "language": "python",
   "name": "python3"
  },
  "language_info": {
   "codemirror_mode": {
    "name": "ipython",
    "version": 3
   },
   "file_extension": ".py",
   "mimetype": "text/x-python",
   "name": "python",
   "nbconvert_exporter": "python",
   "pygments_lexer": "ipython3",
   "version": "3.6.4"
  }
 },
 "nbformat": 4,
 "nbformat_minor": 2
}
